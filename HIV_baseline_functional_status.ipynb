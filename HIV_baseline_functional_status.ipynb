{
 "cells": [
  {
   "cell_type": "code",
   "execution_count": 1,
   "metadata": {},
   "outputs": [],
   "source": [
    "import numpy as np\n",
    "import pandas as pd\n",
    "import matplotlib.pyplot as plt\n",
    "import seaborn as sns\n",
    "%matplotlib inline\n",
    "import warnings\n",
    "warnings.filterwarnings('ignore')\n",
    "from matplotlib.pylab import rcParams\n",
    "rcParams['figure.figsize'] = 12, 6\n",
    "import datetime"
   ]
  },
  {
   "cell_type": "code",
   "execution_count": 2,
   "metadata": {},
   "outputs": [],
   "source": [
    "with open(r'data/Data Analyst Practical Interview dataset.xlsx', 'rb') as f:\n",
    "    df = pd.read_excel(f)"
   ]
  },
  {
   "cell_type": "code",
   "execution_count": 3,
   "metadata": {},
   "outputs": [
    {
     "data": {
      "text/html": [
       "<div>\n",
       "<style scoped>\n",
       "    .dataframe tbody tr th:only-of-type {\n",
       "        vertical-align: middle;\n",
       "    }\n",
       "\n",
       "    .dataframe tbody tr th {\n",
       "        vertical-align: top;\n",
       "    }\n",
       "\n",
       "    .dataframe thead th {\n",
       "        text-align: right;\n",
       "    }\n",
       "</style>\n",
       "<table border=\"1\" class=\"dataframe\">\n",
       "  <thead>\n",
       "    <tr style=\"text-align: right;\">\n",
       "      <th></th>\n",
       "      <th>Date of birth (yyyy-mm-dd)</th>\n",
       "      <th>Age</th>\n",
       "      <th>Gender</th>\n",
       "      <th>Marital status</th>\n",
       "      <th>Education</th>\n",
       "      <th>Occupation</th>\n",
       "      <th>LGA of residence</th>\n",
       "      <th>Care entry point</th>\n",
       "      <th>Date of confirmed HIV test (yyyy-mm-dd)</th>\n",
       "      <th>Date of registration (yyyy-mm-dd)</th>\n",
       "      <th>...</th>\n",
       "      <th>Date of last refill (yyyy-mm-dd)</th>\n",
       "      <th>Last refill duration (days)</th>\n",
       "      <th>Date of next refill (yyyy-mm-dd)</th>\n",
       "      <th>Last clinic stage</th>\n",
       "      <th>Date of last clinic (yyyy-mm-dd)</th>\n",
       "      <th>Date of next clinic (yyyy-mm-dd)</th>\n",
       "      <th>Date of last Viral Load (yyyy-mm-dd)</th>\n",
       "      <th>Viral Load indication</th>\n",
       "      <th>DMOC type</th>\n",
       "      <th>Date devolved (yyyy-mm-dd)</th>\n",
       "    </tr>\n",
       "  </thead>\n",
       "  <tbody>\n",
       "    <tr>\n",
       "      <th>0</th>\n",
       "      <td>1985-06-23</td>\n",
       "      <td>37</td>\n",
       "      <td>Male</td>\n",
       "      <td>Married</td>\n",
       "      <td>Senior Secondary</td>\n",
       "      <td>Employed</td>\n",
       "      <td>Okobo</td>\n",
       "      <td>Outreach</td>\n",
       "      <td>2020-06-23</td>\n",
       "      <td>2020-06-23</td>\n",
       "      <td>...</td>\n",
       "      <td>2022-11-28</td>\n",
       "      <td>180.0</td>\n",
       "      <td>2023-05-25</td>\n",
       "      <td>Stage I</td>\n",
       "      <td>2022-11-28</td>\n",
       "      <td>2023-05-25</td>\n",
       "      <td>2022-02-15</td>\n",
       "      <td>Routine - Routine</td>\n",
       "      <td>DARF</td>\n",
       "      <td>2021-06-02</td>\n",
       "    </tr>\n",
       "    <tr>\n",
       "      <th>1</th>\n",
       "      <td>1986-04-29</td>\n",
       "      <td>36</td>\n",
       "      <td>Female</td>\n",
       "      <td>Married</td>\n",
       "      <td>Primary</td>\n",
       "      <td>Unemployed</td>\n",
       "      <td>Okobo</td>\n",
       "      <td>Outreaches</td>\n",
       "      <td>2017-12-13</td>\n",
       "      <td>2017-12-13</td>\n",
       "      <td>...</td>\n",
       "      <td>2022-06-23</td>\n",
       "      <td>180.0</td>\n",
       "      <td>2022-12-19</td>\n",
       "      <td>Stage I</td>\n",
       "      <td>2022-06-23</td>\n",
       "      <td>2022-12-19</td>\n",
       "      <td>2022-05-16</td>\n",
       "      <td>Routine - Routine</td>\n",
       "      <td>CARC</td>\n",
       "      <td>2021-05-05</td>\n",
       "    </tr>\n",
       "    <tr>\n",
       "      <th>2</th>\n",
       "      <td>1969-01-01</td>\n",
       "      <td>53</td>\n",
       "      <td>Female</td>\n",
       "      <td>Married</td>\n",
       "      <td>Senior Secondary</td>\n",
       "      <td>Employed</td>\n",
       "      <td>Okobo</td>\n",
       "      <td>Outreach</td>\n",
       "      <td>2021-09-30</td>\n",
       "      <td>2021-09-30</td>\n",
       "      <td>...</td>\n",
       "      <td>2022-06-27</td>\n",
       "      <td>180.0</td>\n",
       "      <td>2022-12-22</td>\n",
       "      <td>Stage I</td>\n",
       "      <td>2022-06-27</td>\n",
       "      <td>2022-12-22</td>\n",
       "      <td>2021-12-22</td>\n",
       "      <td>Routine Baseline/Initial</td>\n",
       "      <td>CARC</td>\n",
       "      <td>2022-02-25</td>\n",
       "    </tr>\n",
       "  </tbody>\n",
       "</table>\n",
       "<p>3 rows × 37 columns</p>\n",
       "</div>"
      ],
      "text/plain": [
       "  Date of birth (yyyy-mm-dd)  Age  Gender Marital status         Education  \\\n",
       "0                 1985-06-23   37    Male        Married  Senior Secondary   \n",
       "1                 1986-04-29   36  Female        Married           Primary   \n",
       "2                 1969-01-01   53  Female        Married  Senior Secondary   \n",
       "\n",
       "   Occupation LGA of residence Care entry point  \\\n",
       "0    Employed            Okobo         Outreach   \n",
       "1  Unemployed            Okobo       Outreaches   \n",
       "2    Employed            Okobo         Outreach   \n",
       "\n",
       "  Date of confirmed HIV test (yyyy-mm-dd) Date of registration (yyyy-mm-dd)  \\\n",
       "0                              2020-06-23                        2020-06-23   \n",
       "1                              2017-12-13                        2017-12-13   \n",
       "2                              2021-09-30                        2021-09-30   \n",
       "\n",
       "   ... Date of last refill (yyyy-mm-dd) Last refill duration (days)  \\\n",
       "0  ...                       2022-11-28                       180.0   \n",
       "1  ...                       2022-06-23                       180.0   \n",
       "2  ...                       2022-06-27                       180.0   \n",
       "\n",
       "  Date of next refill (yyyy-mm-dd)  Last clinic stage  \\\n",
       "0                       2023-05-25            Stage I   \n",
       "1                       2022-12-19            Stage I   \n",
       "2                       2022-12-22            Stage I   \n",
       "\n",
       "   Date of last clinic (yyyy-mm-dd) Date of next clinic (yyyy-mm-dd)  \\\n",
       "0                        2022-11-28                       2023-05-25   \n",
       "1                        2022-06-23                       2022-12-19   \n",
       "2                        2022-06-27                       2022-12-22   \n",
       "\n",
       "  Date of last Viral Load (yyyy-mm-dd)     Viral Load indication  DMOC type  \\\n",
       "0                           2022-02-15         Routine - Routine       DARF   \n",
       "1                           2022-05-16         Routine - Routine       CARC   \n",
       "2                           2021-12-22  Routine Baseline/Initial       CARC   \n",
       "\n",
       "   Date devolved (yyyy-mm-dd)  \n",
       "0                  2021-06-02  \n",
       "1                  2021-05-05  \n",
       "2                  2022-02-25  \n",
       "\n",
       "[3 rows x 37 columns]"
      ]
     },
     "execution_count": 3,
     "metadata": {},
     "output_type": "execute_result"
    }
   ],
   "source": [
    "df.head(3)"
   ]
  },
  {
   "cell_type": "code",
   "execution_count": 4,
   "metadata": {},
   "outputs": [
    {
     "name": "stdout",
     "output_type": "stream",
     "text": [
      "<class 'pandas.core.frame.DataFrame'>\n",
      "RangeIndex: 999 entries, 0 to 998\n",
      "Data columns (total 37 columns):\n",
      " #   Column                                   Non-Null Count  Dtype         \n",
      "---  ------                                   --------------  -----         \n",
      " 0   Date of birth (yyyy-mm-dd)               999 non-null    datetime64[ns]\n",
      " 1   Age                                      999 non-null    int64         \n",
      " 2   Gender                                   999 non-null    object        \n",
      " 3   Marital status                           999 non-null    object        \n",
      " 4   Education                                996 non-null    object        \n",
      " 5   Occupation                               992 non-null    object        \n",
      " 6   LGA of residence                         998 non-null    object        \n",
      " 7   Care entry point                         943 non-null    object        \n",
      " 8   Date of confirmed HIV test (yyyy-mm-dd)  960 non-null    datetime64[ns]\n",
      " 9   Date of registration (yyyy-mm-dd)        999 non-null    datetime64[ns]\n",
      " 10  Current status                           944 non-null    object        \n",
      " 11  Date of current status (yyyy-mm-dd)      944 non-null    datetime64[ns]\n",
      " 12  ART start date (yyyy-mm-dd)              969 non-null    datetime64[ns]\n",
      " 13  Systolic Bp                              856 non-null    float64       \n",
      " 14  Diastolic Bp                             856 non-null    float64       \n",
      " 15  Baseline clinic stage                    943 non-null    object        \n",
      " 16  Baseline functional status               940 non-null    object        \n",
      " 17  Current weight (kg)                      933 non-null    float64       \n",
      " 18  Current height (cm)                      803 non-null    float64       \n",
      " 19  Current Systolic Bp                      870 non-null    float64       \n",
      " 20  Current Diastolic Bp                     870 non-null    float64       \n",
      " 21  Adherence                                919 non-null    object        \n",
      " 22  First regimen line                       944 non-null    object        \n",
      " 23  First regimen                            944 non-null    object        \n",
      " 24  Current regimen line                     944 non-null    object        \n",
      " 25  Current regimen                          944 non-null    object        \n",
      " 26  Date substituted/switched (yyyy-mm-dd)   0 non-null      float64       \n",
      " 27  Date of last refill (yyyy-mm-dd)         944 non-null    datetime64[ns]\n",
      " 28  Last refill duration (days)              944 non-null    float64       \n",
      " 29  Date of next refill (yyyy-mm-dd)         944 non-null    datetime64[ns]\n",
      " 30  Last clinic stage                        955 non-null    object        \n",
      " 31  Date of last clinic (yyyy-mm-dd)         955 non-null    datetime64[ns]\n",
      " 32  Date of next clinic (yyyy-mm-dd)         955 non-null    datetime64[ns]\n",
      " 33  Date of last Viral Load (yyyy-mm-dd)     896 non-null    datetime64[ns]\n",
      " 34  Viral Load indication                    896 non-null    object        \n",
      " 35  DMOC type                                882 non-null    object        \n",
      " 36  Date devolved (yyyy-mm-dd)               882 non-null    datetime64[ns]\n",
      "dtypes: datetime64[ns](11), float64(8), int64(1), object(17)\n",
      "memory usage: 288.9+ KB\n"
     ]
    }
   ],
   "source": [
    "df.info()"
   ]
  },
  {
   "cell_type": "code",
   "execution_count": 5,
   "metadata": {},
   "outputs": [
    {
     "data": {
      "text/plain": [
       "array(['Male', 'Female'], dtype=object)"
      ]
     },
     "execution_count": 5,
     "metadata": {},
     "output_type": "execute_result"
    }
   ],
   "source": [
    "df.Gender.unique()"
   ]
  },
  {
   "cell_type": "code",
   "execution_count": 6,
   "metadata": {},
   "outputs": [
    {
     "data": {
      "text/plain": [
       "array(['Routine - Routine', 'Routine Baseline/Initial', nan,\n",
       "       'Targeted - Post EAC'], dtype=object)"
      ]
     },
     "execution_count": 6,
     "metadata": {},
     "output_type": "execute_result"
    }
   ],
   "source": [
    "df['Viral Load indication'].unique()"
   ]
  },
  {
   "cell_type": "code",
   "execution_count": 7,
   "metadata": {},
   "outputs": [
    {
     "data": {
      "text/plain": [
       "array(['Working', nan], dtype=object)"
      ]
     },
     "execution_count": 7,
     "metadata": {},
     "output_type": "execute_result"
    }
   ],
   "source": [
    "df['Baseline functional status'].unique()"
   ]
  },
  {
   "cell_type": "code",
   "execution_count": 8,
   "metadata": {},
   "outputs": [],
   "source": [
    "df['Baseline functional status'] = df['Baseline functional status'].replace(np.nan, 'Not working', regex = True)"
   ]
  },
  {
   "cell_type": "markdown",
   "metadata": {},
   "source": [
    "### Exploratory Data Analysis (EDA)"
   ]
  },
  {
   "cell_type": "code",
   "execution_count": 9,
   "metadata": {},
   "outputs": [
    {
     "data": {
      "text/plain": [
       "<matplotlib.axes._subplots.AxesSubplot at 0x213f633fbb0>"
      ]
     },
     "execution_count": 9,
     "metadata": {},
     "output_type": "execute_result"
    },
    {
     "data": {
      "image/png": "[encoded data removed]",
      "text/plain": [
       "<Figure size 864x432 with 1 Axes>"
      ]
     },
     "metadata": {
      "needs_background": "light"
     },
     "output_type": "display_data"
    }
   ],
   "source": [
    "sns.countplot(df['Baseline functional status'], data = df)"
   ]
  },
  {
   "cell_type": "code",
   "execution_count": 10,
   "metadata": {},
   "outputs": [
    {
     "data": {
      "text/plain": [
       "<matplotlib.axes._subplots.AxesSubplot at 0x213f60ce2b0>"
      ]
     },
     "execution_count": 10,
     "metadata": {},
     "output_type": "execute_result"
    },
    {
     "data": {
      "image/png": "[encoded data removed]",
      "text/plain": [
       "<Figure size 864x432 with 1 Axes>"
      ]
     },
     "metadata": {
      "needs_background": "light"
     },
     "output_type": "display_data"
    }
   ],
   "source": [
    "sns.countplot(df['Baseline functional status'], hue = df.Gender, data = df)"
   ]
  },
  {
   "cell_type": "code",
   "execution_count": 11,
   "metadata": {},
   "outputs": [
    {
     "data": {
      "text/plain": [
       "array([37, 36, 53, 44, 47, 55, 28, 40, 30, 31, 45, 33, 58, 49, 61, 22, 41,\n",
       "       38, 35, 27, 34, 25, 26, 42, 24, 67, 52, 20, 32, 51, 50, 64, 14, 43,\n",
       "        3,  9, 23, 39, 29, 48, 18, 19, 21, 16,  1, 59, 57, 46, 54,  5, 11,\n",
       "       56,  7, 60, 13, 62, 17, 12, 76, 15,  8, 10,  6, 72, 74],\n",
       "      dtype=int64)"
      ]
     },
     "execution_count": 11,
     "metadata": {},
     "output_type": "execute_result"
    }
   ],
   "source": [
    "df.Age.unique()"
   ]
  },
  {
   "cell_type": "code",
   "execution_count": 12,
   "metadata": {},
   "outputs": [
    {
     "data": {
      "text/plain": [
       "array(['Employed', 'Unemployed', 'Student', nan], dtype=object)"
      ]
     },
     "execution_count": 12,
     "metadata": {},
     "output_type": "execute_result"
    }
   ],
   "source": [
    "df.Occupation.unique()"
   ]
  },
  {
   "cell_type": "code",
   "execution_count": 13,
   "metadata": {},
   "outputs": [
    {
     "data": {
      "text/plain": [
       "array(['Outreach', 'Outreaches', nan, 'OPD', 'HCT', 'Transfer-in',\n",
       "       'PMTCT', 'Others', 'In-patient'], dtype=object)"
      ]
     },
     "execution_count": 13,
     "metadata": {},
     "output_type": "execute_result"
    }
   ],
   "source": [
    "df['Care entry point'].unique()"
   ]
  },
  {
   "cell_type": "code",
   "execution_count": 14,
   "metadata": {},
   "outputs": [
    {
     "data": {
      "text/plain": [
       "0      70.0\n",
       "1      60.0\n",
       "2      65.0\n",
       "3      84.0\n",
       "4      75.0\n",
       "       ... \n",
       "994    78.0\n",
       "995    69.0\n",
       "996    77.0\n",
       "997    45.0\n",
       "998    70.0\n",
       "Name: Current weight (kg), Length: 999, dtype: float64"
      ]
     },
     "execution_count": 14,
     "metadata": {},
     "output_type": "execute_result"
    }
   ],
   "source": [
    "df['Current weight (kg)']"
   ]
  },
  {
   "cell_type": "code",
   "execution_count": 15,
   "metadata": {},
   "outputs": [
    {
     "data": {
      "text/plain": [
       "array(['Routine - Routine', 'Routine Baseline/Initial', nan,\n",
       "       'Targeted - Post EAC'], dtype=object)"
      ]
     },
     "execution_count": 15,
     "metadata": {},
     "output_type": "execute_result"
    }
   ],
   "source": [
    "df['Viral Load indication'].unique()"
   ]
  },
  {
   "cell_type": "code",
   "execution_count": 16,
   "metadata": {},
   "outputs": [
    {
     "data": {
      "text/plain": [
       "array(['DARF', 'CARC', nan, 'Adolescent Refill Club', 'S-CARG', 'F-CARG',\n",
       "       'Fast Track', 'MMD'], dtype=object)"
      ]
     },
     "execution_count": 16,
     "metadata": {},
     "output_type": "execute_result"
    }
   ],
   "source": [
    "df['DMOC type'].unique()"
   ]
  },
  {
   "cell_type": "code",
   "execution_count": 17,
   "metadata": {},
   "outputs": [
    {
     "data": {
      "text/plain": [
       "{'ART start date (yyyy-mm-dd)',\n",
       " 'Adherence',\n",
       " 'Age',\n",
       " 'Baseline clinic stage',\n",
       " 'Baseline functional status',\n",
       " 'Care entry point',\n",
       " 'Current Diastolic Bp',\n",
       " 'Current Systolic Bp',\n",
       " 'Current height (cm)',\n",
       " 'Current regimen',\n",
       " 'Current regimen line',\n",
       " 'Current status',\n",
       " 'Current weight (kg)',\n",
       " 'DMOC type',\n",
       " 'Date devolved (yyyy-mm-dd)',\n",
       " 'Date of birth (yyyy-mm-dd)',\n",
       " 'Date of confirmed HIV test (yyyy-mm-dd)',\n",
       " 'Date of current status (yyyy-mm-dd)',\n",
       " 'Date of last Viral Load (yyyy-mm-dd)',\n",
       " 'Date of last clinic (yyyy-mm-dd)',\n",
       " 'Date of last refill (yyyy-mm-dd)',\n",
       " 'Date of next clinic (yyyy-mm-dd)',\n",
       " 'Date of next refill (yyyy-mm-dd)',\n",
       " 'Date of registration (yyyy-mm-dd)',\n",
       " 'Date substituted/switched (yyyy-mm-dd)',\n",
       " 'Diastolic Bp',\n",
       " 'Education',\n",
       " 'First regimen',\n",
       " 'First regimen line',\n",
       " 'Gender',\n",
       " 'LGA of residence',\n",
       " 'Last clinic stage',\n",
       " 'Last refill duration (days)',\n",
       " 'Marital status',\n",
       " 'Occupation',\n",
       " 'Systolic Bp',\n",
       " 'Viral Load indication'}"
      ]
     },
     "execution_count": 17,
     "metadata": {},
     "output_type": "execute_result"
    }
   ],
   "source": [
    "set(df.columns)"
   ]
  },
  {
   "cell_type": "code",
   "execution_count": 18,
   "metadata": {},
   "outputs": [
    {
     "data": {
      "text/plain": [
       "array(['Stage I', nan, 'Stage II', 'Stage III'], dtype=object)"
      ]
     },
     "execution_count": 18,
     "metadata": {},
     "output_type": "execute_result"
    }
   ],
   "source": [
    "df['Last clinic stage'].unique()"
   ]
  },
  {
   "cell_type": "code",
   "execution_count": 19,
   "metadata": {},
   "outputs": [],
   "source": [
    "df['Day of confirmed HIV test'] = df['Date of confirmed HIV test (yyyy-mm-dd)'].dt.day"
   ]
  },
  {
   "cell_type": "code",
   "execution_count": 20,
   "metadata": {},
   "outputs": [],
   "source": [
    "df['Day of registration'] = df['Date of registration (yyyy-mm-dd)'].dt.day"
   ]
  },
  {
   "cell_type": "code",
   "execution_count": 21,
   "metadata": {},
   "outputs": [],
   "source": [
    "df['Day of current status'] = df['Date of current status (yyyy-mm-dd)'].dt.day"
   ]
  },
  {
   "cell_type": "code",
   "execution_count": 22,
   "metadata": {},
   "outputs": [],
   "source": [
    "df['Day of ART start date'] = df['ART start date (yyyy-mm-dd)'].dt.day"
   ]
  },
  {
   "cell_type": "code",
   "execution_count": 23,
   "metadata": {},
   "outputs": [],
   "source": [
    "df['Day of last refill'] = df['Date of last refill (yyyy-mm-dd)'].dt.day"
   ]
  },
  {
   "cell_type": "code",
   "execution_count": 24,
   "metadata": {},
   "outputs": [],
   "source": [
    "df['Day of next refill'] = df['Date of next refill (yyyy-mm-dd)'].dt.day"
   ]
  },
  {
   "cell_type": "code",
   "execution_count": 25,
   "metadata": {},
   "outputs": [],
   "source": [
    "df['Day of last clinic'] = df['Date of last clinic (yyyy-mm-dd)'].dt.day"
   ]
  },
  {
   "cell_type": "code",
   "execution_count": 26,
   "metadata": {},
   "outputs": [],
   "source": [
    "df['Day of next clinic'] = df['Date of next clinic (yyyy-mm-dd)'].dt.day"
   ]
  },
  {
   "cell_type": "code",
   "execution_count": 27,
   "metadata": {},
   "outputs": [],
   "source": [
    "df['Day of last Viral Load'] = df['Date of last Viral Load (yyyy-mm-dd)'].dt.day"
   ]
  },
  {
   "cell_type": "code",
   "execution_count": 28,
   "metadata": {},
   "outputs": [],
   "source": [
    "df['Day of devolved'] = df['Date devolved (yyyy-mm-dd)'].dt.day"
   ]
  },
  {
   "cell_type": "code",
   "execution_count": 29,
   "metadata": {},
   "outputs": [
    {
     "data": {
      "text/html": [
       "<div>\n",
       "<style scoped>\n",
       "    .dataframe tbody tr th:only-of-type {\n",
       "        vertical-align: middle;\n",
       "    }\n",
       "\n",
       "    .dataframe tbody tr th {\n",
       "        vertical-align: top;\n",
       "    }\n",
       "\n",
       "    .dataframe thead th {\n",
       "        text-align: right;\n",
       "    }\n",
       "</style>\n",
       "<table border=\"1\" class=\"dataframe\">\n",
       "  <thead>\n",
       "    <tr style=\"text-align: right;\">\n",
       "      <th></th>\n",
       "      <th>Current regimen</th>\n",
       "      <th>Date substituted/switched (yyyy-mm-dd)</th>\n",
       "      <th>Date of last refill (yyyy-mm-dd)</th>\n",
       "      <th>Last refill duration (days)</th>\n",
       "      <th>Date of next refill (yyyy-mm-dd)</th>\n",
       "      <th>Last clinic stage</th>\n",
       "      <th>Date of last clinic (yyyy-mm-dd)</th>\n",
       "      <th>Date of next clinic (yyyy-mm-dd)</th>\n",
       "      <th>Date of last Viral Load (yyyy-mm-dd)</th>\n",
       "      <th>Viral Load indication</th>\n",
       "      <th>...</th>\n",
       "      <th>Day of confirmed HIV test</th>\n",
       "      <th>Day of registration</th>\n",
       "      <th>Day of current status</th>\n",
       "      <th>Day of ART start date</th>\n",
       "      <th>Day of last refill</th>\n",
       "      <th>Day of next refill</th>\n",
       "      <th>Day of last clinic</th>\n",
       "      <th>Day of next clinic</th>\n",
       "      <th>Day of last Viral Load</th>\n",
       "      <th>Day of devolved</th>\n",
       "    </tr>\n",
       "  </thead>\n",
       "  <tbody>\n",
       "    <tr>\n",
       "      <th>0</th>\n",
       "      <td>TDF(300mg)+3TC(300mg)+DTG(50mg)</td>\n",
       "      <td>NaN</td>\n",
       "      <td>2022-11-28</td>\n",
       "      <td>180.0</td>\n",
       "      <td>2023-05-25</td>\n",
       "      <td>Stage I</td>\n",
       "      <td>2022-11-28</td>\n",
       "      <td>2023-05-25</td>\n",
       "      <td>2022-02-15</td>\n",
       "      <td>Routine - Routine</td>\n",
       "      <td>...</td>\n",
       "      <td>23.0</td>\n",
       "      <td>23</td>\n",
       "      <td>28.0</td>\n",
       "      <td>23.0</td>\n",
       "      <td>28.0</td>\n",
       "      <td>25.0</td>\n",
       "      <td>28.0</td>\n",
       "      <td>25.0</td>\n",
       "      <td>15.0</td>\n",
       "      <td>2.0</td>\n",
       "    </tr>\n",
       "    <tr>\n",
       "      <th>1</th>\n",
       "      <td>TDF(300mg)+3TC(300mg)+DTG(50mg)</td>\n",
       "      <td>NaN</td>\n",
       "      <td>2022-06-23</td>\n",
       "      <td>180.0</td>\n",
       "      <td>2022-12-19</td>\n",
       "      <td>Stage I</td>\n",
       "      <td>2022-06-23</td>\n",
       "      <td>2022-12-19</td>\n",
       "      <td>2022-05-16</td>\n",
       "      <td>Routine - Routine</td>\n",
       "      <td>...</td>\n",
       "      <td>13.0</td>\n",
       "      <td>13</td>\n",
       "      <td>23.0</td>\n",
       "      <td>13.0</td>\n",
       "      <td>23.0</td>\n",
       "      <td>19.0</td>\n",
       "      <td>23.0</td>\n",
       "      <td>19.0</td>\n",
       "      <td>16.0</td>\n",
       "      <td>5.0</td>\n",
       "    </tr>\n",
       "    <tr>\n",
       "      <th>2</th>\n",
       "      <td>TDF(300mg)+3TC(300mg)+DTG(50mg)</td>\n",
       "      <td>NaN</td>\n",
       "      <td>2022-06-27</td>\n",
       "      <td>180.0</td>\n",
       "      <td>2022-12-22</td>\n",
       "      <td>Stage I</td>\n",
       "      <td>2022-06-27</td>\n",
       "      <td>2022-12-22</td>\n",
       "      <td>2021-12-22</td>\n",
       "      <td>Routine Baseline/Initial</td>\n",
       "      <td>...</td>\n",
       "      <td>30.0</td>\n",
       "      <td>30</td>\n",
       "      <td>27.0</td>\n",
       "      <td>30.0</td>\n",
       "      <td>27.0</td>\n",
       "      <td>22.0</td>\n",
       "      <td>27.0</td>\n",
       "      <td>22.0</td>\n",
       "      <td>22.0</td>\n",
       "      <td>25.0</td>\n",
       "    </tr>\n",
       "    <tr>\n",
       "      <th>3</th>\n",
       "      <td>TDF(300mg)+3TC(300mg)+DTG(50mg)</td>\n",
       "      <td>NaN</td>\n",
       "      <td>2022-09-20</td>\n",
       "      <td>180.0</td>\n",
       "      <td>2023-03-17</td>\n",
       "      <td>Stage I</td>\n",
       "      <td>2022-09-20</td>\n",
       "      <td>2023-03-17</td>\n",
       "      <td>2022-08-26</td>\n",
       "      <td>Routine - Routine</td>\n",
       "      <td>...</td>\n",
       "      <td>7.0</td>\n",
       "      <td>7</td>\n",
       "      <td>20.0</td>\n",
       "      <td>7.0</td>\n",
       "      <td>20.0</td>\n",
       "      <td>17.0</td>\n",
       "      <td>20.0</td>\n",
       "      <td>17.0</td>\n",
       "      <td>26.0</td>\n",
       "      <td>5.0</td>\n",
       "    </tr>\n",
       "    <tr>\n",
       "      <th>4</th>\n",
       "      <td>TDF(300mg)+3TC(300mg)+DTG(50mg)</td>\n",
       "      <td>NaN</td>\n",
       "      <td>2022-11-10</td>\n",
       "      <td>180.0</td>\n",
       "      <td>2023-05-08</td>\n",
       "      <td>Stage I</td>\n",
       "      <td>2022-11-10</td>\n",
       "      <td>2023-05-08</td>\n",
       "      <td>2022-03-21</td>\n",
       "      <td>Routine - Routine</td>\n",
       "      <td>...</td>\n",
       "      <td>6.0</td>\n",
       "      <td>6</td>\n",
       "      <td>10.0</td>\n",
       "      <td>6.0</td>\n",
       "      <td>10.0</td>\n",
       "      <td>8.0</td>\n",
       "      <td>10.0</td>\n",
       "      <td>8.0</td>\n",
       "      <td>21.0</td>\n",
       "      <td>24.0</td>\n",
       "    </tr>\n",
       "  </tbody>\n",
       "</table>\n",
       "<p>5 rows × 22 columns</p>\n",
       "</div>"
      ],
      "text/plain": [
       "                   Current regimen  Date substituted/switched (yyyy-mm-dd)  \\\n",
       "0  TDF(300mg)+3TC(300mg)+DTG(50mg)                                     NaN   \n",
       "1  TDF(300mg)+3TC(300mg)+DTG(50mg)                                     NaN   \n",
       "2  TDF(300mg)+3TC(300mg)+DTG(50mg)                                     NaN   \n",
       "3  TDF(300mg)+3TC(300mg)+DTG(50mg)                                     NaN   \n",
       "4  TDF(300mg)+3TC(300mg)+DTG(50mg)                                     NaN   \n",
       "\n",
       "  Date of last refill (yyyy-mm-dd)  Last refill duration (days)  \\\n",
       "0                       2022-11-28                        180.0   \n",
       "1                       2022-06-23                        180.0   \n",
       "2                       2022-06-27                        180.0   \n",
       "3                       2022-09-20                        180.0   \n",
       "4                       2022-11-10                        180.0   \n",
       "\n",
       "  Date of next refill (yyyy-mm-dd) Last clinic stage  \\\n",
       "0                       2023-05-25           Stage I   \n",
       "1                       2022-12-19           Stage I   \n",
       "2                       2022-12-22           Stage I   \n",
       "3                       2023-03-17           Stage I   \n",
       "4                       2023-05-08           Stage I   \n",
       "\n",
       "  Date of last clinic (yyyy-mm-dd) Date of next clinic (yyyy-mm-dd)  \\\n",
       "0                       2022-11-28                       2023-05-25   \n",
       "1                       2022-06-23                       2022-12-19   \n",
       "2                       2022-06-27                       2022-12-22   \n",
       "3                       2022-09-20                       2023-03-17   \n",
       "4                       2022-11-10                       2023-05-08   \n",
       "\n",
       "  Date of last Viral Load (yyyy-mm-dd)     Viral Load indication  ...  \\\n",
       "0                           2022-02-15         Routine - Routine  ...   \n",
       "1                           2022-05-16         Routine - Routine  ...   \n",
       "2                           2021-12-22  Routine Baseline/Initial  ...   \n",
       "3                           2022-08-26         Routine - Routine  ...   \n",
       "4                           2022-03-21         Routine - Routine  ...   \n",
       "\n",
       "  Day of confirmed HIV test Day of registration  Day of current status  \\\n",
       "0                      23.0                  23                   28.0   \n",
       "1                      13.0                  13                   23.0   \n",
       "2                      30.0                  30                   27.0   \n",
       "3                       7.0                   7                   20.0   \n",
       "4                       6.0                   6                   10.0   \n",
       "\n",
       "   Day of ART start date  Day of last refill  Day of next refill  \\\n",
       "0                   23.0                28.0                25.0   \n",
       "1                   13.0                23.0                19.0   \n",
       "2                   30.0                27.0                22.0   \n",
       "3                    7.0                20.0                17.0   \n",
       "4                    6.0                10.0                 8.0   \n",
       "\n",
       "   Day of last clinic  Day of next clinic  Day of last Viral Load  \\\n",
       "0                28.0                25.0                    15.0   \n",
       "1                23.0                19.0                    16.0   \n",
       "2                27.0                22.0                    22.0   \n",
       "3                20.0                17.0                    26.0   \n",
       "4                10.0                 8.0                    21.0   \n",
       "\n",
       "   Day of devolved  \n",
       "0              2.0  \n",
       "1              5.0  \n",
       "2             25.0  \n",
       "3              5.0  \n",
       "4             24.0  \n",
       "\n",
       "[5 rows x 22 columns]"
      ]
     },
     "execution_count": 29,
     "metadata": {},
     "output_type": "execute_result"
    }
   ],
   "source": [
    "df.iloc[:, 25:].head(5)"
   ]
  },
  {
   "cell_type": "code",
   "execution_count": 30,
   "metadata": {},
   "outputs": [
    {
     "data": {
      "text/html": [
       "<div>\n",
       "<style scoped>\n",
       "    .dataframe tbody tr th:only-of-type {\n",
       "        vertical-align: middle;\n",
       "    }\n",
       "\n",
       "    .dataframe tbody tr th {\n",
       "        vertical-align: top;\n",
       "    }\n",
       "\n",
       "    .dataframe thead th {\n",
       "        text-align: right;\n",
       "    }\n",
       "</style>\n",
       "<table border=\"1\" class=\"dataframe\">\n",
       "  <thead>\n",
       "    <tr style=\"text-align: right;\">\n",
       "      <th></th>\n",
       "      <th>Date of birth (yyyy-mm-dd)</th>\n",
       "      <th>Age</th>\n",
       "      <th>Gender</th>\n",
       "      <th>Marital status</th>\n",
       "      <th>Education</th>\n",
       "      <th>Occupation</th>\n",
       "      <th>LGA of residence</th>\n",
       "      <th>Care entry point</th>\n",
       "      <th>Date of confirmed HIV test (yyyy-mm-dd)</th>\n",
       "      <th>Date of registration (yyyy-mm-dd)</th>\n",
       "      <th>...</th>\n",
       "      <th>Day of confirmed HIV test</th>\n",
       "      <th>Day of registration</th>\n",
       "      <th>Day of current status</th>\n",
       "      <th>Day of ART start date</th>\n",
       "      <th>Day of last refill</th>\n",
       "      <th>Day of next refill</th>\n",
       "      <th>Day of last clinic</th>\n",
       "      <th>Day of next clinic</th>\n",
       "      <th>Day of last Viral Load</th>\n",
       "      <th>Day of devolved</th>\n",
       "    </tr>\n",
       "  </thead>\n",
       "  <tbody>\n",
       "    <tr>\n",
       "      <th>0</th>\n",
       "      <td>1985-06-23</td>\n",
       "      <td>37</td>\n",
       "      <td>Male</td>\n",
       "      <td>Married</td>\n",
       "      <td>Senior Secondary</td>\n",
       "      <td>Employed</td>\n",
       "      <td>Okobo</td>\n",
       "      <td>Outreach</td>\n",
       "      <td>2020-06-23</td>\n",
       "      <td>2020-06-23</td>\n",
       "      <td>...</td>\n",
       "      <td>23.0</td>\n",
       "      <td>23</td>\n",
       "      <td>28.0</td>\n",
       "      <td>23.0</td>\n",
       "      <td>28.0</td>\n",
       "      <td>25.0</td>\n",
       "      <td>28.0</td>\n",
       "      <td>25.0</td>\n",
       "      <td>15.0</td>\n",
       "      <td>2.0</td>\n",
       "    </tr>\n",
       "    <tr>\n",
       "      <th>1</th>\n",
       "      <td>1986-04-29</td>\n",
       "      <td>36</td>\n",
       "      <td>Female</td>\n",
       "      <td>Married</td>\n",
       "      <td>Primary</td>\n",
       "      <td>Unemployed</td>\n",
       "      <td>Okobo</td>\n",
       "      <td>Outreaches</td>\n",
       "      <td>2017-12-13</td>\n",
       "      <td>2017-12-13</td>\n",
       "      <td>...</td>\n",
       "      <td>13.0</td>\n",
       "      <td>13</td>\n",
       "      <td>23.0</td>\n",
       "      <td>13.0</td>\n",
       "      <td>23.0</td>\n",
       "      <td>19.0</td>\n",
       "      <td>23.0</td>\n",
       "      <td>19.0</td>\n",
       "      <td>16.0</td>\n",
       "      <td>5.0</td>\n",
       "    </tr>\n",
       "  </tbody>\n",
       "</table>\n",
       "<p>2 rows × 47 columns</p>\n",
       "</div>"
      ],
      "text/plain": [
       "  Date of birth (yyyy-mm-dd)  Age  Gender Marital status         Education  \\\n",
       "0                 1985-06-23   37    Male        Married  Senior Secondary   \n",
       "1                 1986-04-29   36  Female        Married           Primary   \n",
       "\n",
       "   Occupation LGA of residence Care entry point  \\\n",
       "0    Employed            Okobo         Outreach   \n",
       "1  Unemployed            Okobo       Outreaches   \n",
       "\n",
       "  Date of confirmed HIV test (yyyy-mm-dd) Date of registration (yyyy-mm-dd)  \\\n",
       "0                              2020-06-23                        2020-06-23   \n",
       "1                              2017-12-13                        2017-12-13   \n",
       "\n",
       "   ... Day of confirmed HIV test Day of registration Day of current status  \\\n",
       "0  ...                      23.0                  23                  28.0   \n",
       "1  ...                      13.0                  13                  23.0   \n",
       "\n",
       "   Day of ART start date  Day of last refill Day of next refill  \\\n",
       "0                   23.0                28.0               25.0   \n",
       "1                   13.0                23.0               19.0   \n",
       "\n",
       "  Day of last clinic  Day of next clinic  Day of last Viral Load  \\\n",
       "0               28.0                25.0                    15.0   \n",
       "1               23.0                19.0                    16.0   \n",
       "\n",
       "   Day of devolved  \n",
       "0              2.0  \n",
       "1              5.0  \n",
       "\n",
       "[2 rows x 47 columns]"
      ]
     },
     "execution_count": 30,
     "metadata": {},
     "output_type": "execute_result"
    }
   ],
   "source": [
    "df.head(2)"
   ]
  },
  {
   "cell_type": "code",
   "execution_count": 31,
   "metadata": {},
   "outputs": [],
   "source": [
    "df = df.drop(['Date of birth (yyyy-mm-dd)', 'Date of confirmed HIV test (yyyy-mm-dd)', 'Date of registration (yyyy-mm-dd)', 'Date of current status (yyyy-mm-dd)', 'ART start date (yyyy-mm-dd)', 'Date of last refill (yyyy-mm-dd)', 'Date of next refill (yyyy-mm-dd)', 'Date of last clinic (yyyy-mm-dd)', 'Date of next clinic (yyyy-mm-dd)', 'Date of last Viral Load (yyyy-mm-dd)', 'Date devolved (yyyy-mm-dd)'], axis = 1)"
   ]
  },
  {
   "cell_type": "code",
   "execution_count": 32,
   "metadata": {},
   "outputs": [
    {
     "data": {
      "text/html": [
       "<div>\n",
       "<style scoped>\n",
       "    .dataframe tbody tr th:only-of-type {\n",
       "        vertical-align: middle;\n",
       "    }\n",
       "\n",
       "    .dataframe tbody tr th {\n",
       "        vertical-align: top;\n",
       "    }\n",
       "\n",
       "    .dataframe thead th {\n",
       "        text-align: right;\n",
       "    }\n",
       "</style>\n",
       "<table border=\"1\" class=\"dataframe\">\n",
       "  <thead>\n",
       "    <tr style=\"text-align: right;\">\n",
       "      <th></th>\n",
       "      <th>Age</th>\n",
       "      <th>Gender</th>\n",
       "      <th>Marital status</th>\n",
       "      <th>Education</th>\n",
       "      <th>Occupation</th>\n",
       "      <th>LGA of residence</th>\n",
       "      <th>Care entry point</th>\n",
       "      <th>Current status</th>\n",
       "      <th>Systolic Bp</th>\n",
       "      <th>Diastolic Bp</th>\n",
       "      <th>...</th>\n",
       "      <th>Day of confirmed HIV test</th>\n",
       "      <th>Day of registration</th>\n",
       "      <th>Day of current status</th>\n",
       "      <th>Day of ART start date</th>\n",
       "      <th>Day of last refill</th>\n",
       "      <th>Day of next refill</th>\n",
       "      <th>Day of last clinic</th>\n",
       "      <th>Day of next clinic</th>\n",
       "      <th>Day of last Viral Load</th>\n",
       "      <th>Day of devolved</th>\n",
       "    </tr>\n",
       "  </thead>\n",
       "  <tbody>\n",
       "    <tr>\n",
       "      <th>0</th>\n",
       "      <td>37</td>\n",
       "      <td>Male</td>\n",
       "      <td>Married</td>\n",
       "      <td>Senior Secondary</td>\n",
       "      <td>Employed</td>\n",
       "      <td>Okobo</td>\n",
       "      <td>Outreach</td>\n",
       "      <td>ART Start</td>\n",
       "      <td>120.0</td>\n",
       "      <td>80.0</td>\n",
       "      <td>...</td>\n",
       "      <td>23.0</td>\n",
       "      <td>23</td>\n",
       "      <td>28.0</td>\n",
       "      <td>23.0</td>\n",
       "      <td>28.0</td>\n",
       "      <td>25.0</td>\n",
       "      <td>28.0</td>\n",
       "      <td>25.0</td>\n",
       "      <td>15.0</td>\n",
       "      <td>2.0</td>\n",
       "    </tr>\n",
       "    <tr>\n",
       "      <th>1</th>\n",
       "      <td>36</td>\n",
       "      <td>Female</td>\n",
       "      <td>Married</td>\n",
       "      <td>Primary</td>\n",
       "      <td>Unemployed</td>\n",
       "      <td>Okobo</td>\n",
       "      <td>Outreaches</td>\n",
       "      <td>ART Start</td>\n",
       "      <td>128.0</td>\n",
       "      <td>72.0</td>\n",
       "      <td>...</td>\n",
       "      <td>13.0</td>\n",
       "      <td>13</td>\n",
       "      <td>23.0</td>\n",
       "      <td>13.0</td>\n",
       "      <td>23.0</td>\n",
       "      <td>19.0</td>\n",
       "      <td>23.0</td>\n",
       "      <td>19.0</td>\n",
       "      <td>16.0</td>\n",
       "      <td>5.0</td>\n",
       "    </tr>\n",
       "  </tbody>\n",
       "</table>\n",
       "<p>2 rows × 36 columns</p>\n",
       "</div>"
      ],
      "text/plain": [
       "   Age  Gender Marital status         Education  Occupation LGA of residence  \\\n",
       "0   37    Male        Married  Senior Secondary    Employed            Okobo   \n",
       "1   36  Female        Married           Primary  Unemployed            Okobo   \n",
       "\n",
       "  Care entry point Current status  Systolic Bp  Diastolic Bp  ...  \\\n",
       "0         Outreach      ART Start        120.0          80.0  ...   \n",
       "1       Outreaches      ART Start        128.0          72.0  ...   \n",
       "\n",
       "  Day of confirmed HIV test Day of registration  Day of current status  \\\n",
       "0                      23.0                  23                   28.0   \n",
       "1                      13.0                  13                   23.0   \n",
       "\n",
       "   Day of ART start date  Day of last refill  Day of next refill  \\\n",
       "0                   23.0                28.0                25.0   \n",
       "1                   13.0                23.0                19.0   \n",
       "\n",
       "  Day of last clinic Day of next clinic Day of last Viral Load Day of devolved  \n",
       "0               28.0               25.0                   15.0             2.0  \n",
       "1               23.0               19.0                   16.0             5.0  \n",
       "\n",
       "[2 rows x 36 columns]"
      ]
     },
     "execution_count": 32,
     "metadata": {},
     "output_type": "execute_result"
    }
   ],
   "source": [
    "df.head(2)"
   ]
  },
  {
   "cell_type": "code",
   "execution_count": 33,
   "metadata": {},
   "outputs": [
    {
     "data": {
      "text/plain": [
       "Age                                         0\n",
       "Gender                                      0\n",
       "Marital status                              0\n",
       "Education                                   3\n",
       "Occupation                                  7\n",
       "LGA of residence                            1\n",
       "Care entry point                           56\n",
       "Current status                             55\n",
       "Systolic Bp                               143\n",
       "Diastolic Bp                              143\n",
       "Baseline clinic stage                      56\n",
       "Baseline functional status                  0\n",
       "Current weight (kg)                        66\n",
       "Current height (cm)                       196\n",
       "Current Systolic Bp                       129\n",
       "Current Diastolic Bp                      129\n",
       "Adherence                                  80\n",
       "First regimen line                         55\n",
       "First regimen                              55\n",
       "Current regimen line                       55\n",
       "Current regimen                            55\n",
       "Date substituted/switched (yyyy-mm-dd)    999\n",
       "Last refill duration (days)                55\n",
       "Last clinic stage                          44\n",
       "Viral Load indication                     103\n",
       "DMOC type                                 117\n",
       "Day of confirmed HIV test                  39\n",
       "Day of registration                         0\n",
       "Day of current status                      55\n",
       "Day of ART start date                      30\n",
       "Day of last refill                         55\n",
       "Day of next refill                         55\n",
       "Day of last clinic                         44\n",
       "Day of next clinic                         44\n",
       "Day of last Viral Load                    103\n",
       "Day of devolved                           117\n",
       "dtype: int64"
      ]
     },
     "execution_count": 33,
     "metadata": {},
     "output_type": "execute_result"
    }
   ],
   "source": [
    "df.isnull().sum()"
   ]
  },
  {
   "cell_type": "code",
   "execution_count": 34,
   "metadata": {},
   "outputs": [
    {
     "data": {
      "text/plain": [
       "<matplotlib.axes._subplots.AxesSubplot at 0x213f86a5a60>"
      ]
     },
     "execution_count": 34,
     "metadata": {},
     "output_type": "execute_result"
    },
    {
     "data": {
      "image/png": "[encoded data removed]",
      "text/plain": [
       "<Figure size 864x432 with 1 Axes>"
      ]
     },
     "metadata": {
      "needs_background": "light"
     },
     "output_type": "display_data"
    }
   ],
   "source": [
    "sns.heatmap(df.isnull(), yticklabels= False, cbar= False, cmap = 'viridis')"
   ]
  },
  {
   "cell_type": "code",
   "execution_count": 35,
   "metadata": {},
   "outputs": [
    {
     "data": {
      "text/plain": [
       "80.38038038038037"
      ]
     },
     "execution_count": 35,
     "metadata": {},
     "output_type": "execute_result"
    }
   ],
   "source": [
    "len([a for a in df['Current height (cm)'].notnull() if a == True]) / len(df) * 100"
   ]
  },
  {
   "cell_type": "code",
   "execution_count": 36,
   "metadata": {},
   "outputs": [
    {
     "data": {
      "text/plain": [
       "85.68568568568568"
      ]
     },
     "execution_count": 36,
     "metadata": {},
     "output_type": "execute_result"
    }
   ],
   "source": [
    "len([a for a in df['Systolic Bp'].notnull() if a == True]) / len(df) * 100"
   ]
  },
  {
   "cell_type": "code",
   "execution_count": 37,
   "metadata": {},
   "outputs": [
    {
     "data": {
      "text/plain": [
       "88.28828828828829"
      ]
     },
     "execution_count": 37,
     "metadata": {},
     "output_type": "execute_result"
    }
   ],
   "source": [
    "len([a for a in df['DMOC type'].notnull() if a == True]) / len(df) * 100"
   ]
  },
  {
   "cell_type": "code",
   "execution_count": 38,
   "metadata": {},
   "outputs": [
    {
     "data": {
      "text/plain": [
       "0.0"
      ]
     },
     "execution_count": 38,
     "metadata": {},
     "output_type": "execute_result"
    }
   ],
   "source": [
    "len([a for a in df['Date substituted/switched (yyyy-mm-dd)'] if a == True]) / len(df) * 100"
   ]
  },
  {
   "cell_type": "code",
   "execution_count": 39,
   "metadata": {},
   "outputs": [
    {
     "data": {
      "text/plain": [
       "array([170., 187.,  nan, 150., 165., 178., 155., 156., 157., 160., 175.,\n",
       "       168., 152., 140., 166., 164., 180., 162., 161., 154., 169.,  98.,\n",
       "       127., 146., 158., 145., 130., 163., 151., 171., 167., 159., 119.,\n",
       "       174., 153., 116.,   0., 139., 120., 172., 176., 135., 123., 129.,\n",
       "       179., 134., 142., 138., 141., 144., 125., 173., 115., 110., 148.])"
      ]
     },
     "execution_count": 39,
     "metadata": {},
     "output_type": "execute_result"
    }
   ],
   "source": [
    "df['Current height (cm)'].unique()"
   ]
  },
  {
   "cell_type": "code",
   "execution_count": 40,
   "metadata": {},
   "outputs": [
    {
     "name": "stdout",
     "output_type": "stream",
     "text": [
      "<class 'pandas.core.frame.DataFrame'>\n",
      "RangeIndex: 999 entries, 0 to 998\n",
      "Data columns (total 36 columns):\n",
      " #   Column                                  Non-Null Count  Dtype  \n",
      "---  ------                                  --------------  -----  \n",
      " 0   Age                                     999 non-null    int64  \n",
      " 1   Gender                                  999 non-null    object \n",
      " 2   Marital status                          999 non-null    object \n",
      " 3   Education                               996 non-null    object \n",
      " 4   Occupation                              992 non-null    object \n",
      " 5   LGA of residence                        998 non-null    object \n",
      " 6   Care entry point                        943 non-null    object \n",
      " 7   Current status                          944 non-null    object \n",
      " 8   Systolic Bp                             856 non-null    float64\n",
      " 9   Diastolic Bp                            856 non-null    float64\n",
      " 10  Baseline clinic stage                   943 non-null    object \n",
      " 11  Baseline functional status              999 non-null    object \n",
      " 12  Current weight (kg)                     933 non-null    float64\n",
      " 13  Current height (cm)                     803 non-null    float64\n",
      " 14  Current Systolic Bp                     870 non-null    float64\n",
      " 15  Current Diastolic Bp                    870 non-null    float64\n",
      " 16  Adherence                               919 non-null    object \n",
      " 17  First regimen line                      944 non-null    object \n",
      " 18  First regimen                           944 non-null    object \n",
      " 19  Current regimen line                    944 non-null    object \n",
      " 20  Current regimen                         944 non-null    object \n",
      " 21  Date substituted/switched (yyyy-mm-dd)  0 non-null      float64\n",
      " 22  Last refill duration (days)             944 non-null    float64\n",
      " 23  Last clinic stage                       955 non-null    object \n",
      " 24  Viral Load indication                   896 non-null    object \n",
      " 25  DMOC type                               882 non-null    object \n",
      " 26  Day of confirmed HIV test               960 non-null    float64\n",
      " 27  Day of registration                     999 non-null    int64  \n",
      " 28  Day of current status                   944 non-null    float64\n",
      " 29  Day of ART start date                   969 non-null    float64\n",
      " 30  Day of last refill                      944 non-null    float64\n",
      " 31  Day of next refill                      944 non-null    float64\n",
      " 32  Day of last clinic                      955 non-null    float64\n",
      " 33  Day of next clinic                      955 non-null    float64\n",
      " 34  Day of last Viral Load                  896 non-null    float64\n",
      " 35  Day of devolved                         882 non-null    float64\n",
      "dtypes: float64(17), int64(2), object(17)\n",
      "memory usage: 281.1+ KB\n"
     ]
    }
   ],
   "source": [
    "df.info()"
   ]
  },
  {
   "cell_type": "code",
   "execution_count": 41,
   "metadata": {},
   "outputs": [
    {
     "data": {
      "text/plain": [
       "array(['ART Start', nan, 'ART Transfer Out', 'Died (Confirmed)',\n",
       "       'Stopped Treatment', 'IIT', 'Return to Care', 'ART Restart',\n",
       "       'ART Transfer In'], dtype=object)"
      ]
     },
     "execution_count": 41,
     "metadata": {},
     "output_type": "execute_result"
    }
   ],
   "source": [
    "df['Current status'].unique()"
   ]
  },
  {
   "cell_type": "code",
   "execution_count": 42,
   "metadata": {},
   "outputs": [
    {
     "data": {
      "text/plain": [
       "array(['Senior Secondary', 'Primary', 'None', 'Junior Secondary', nan,\n",
       "       'Post Secondary'], dtype=object)"
      ]
     },
     "execution_count": 42,
     "metadata": {},
     "output_type": "execute_result"
    }
   ],
   "source": [
    "df['Education'].unique()"
   ]
  },
  {
   "cell_type": "code",
   "execution_count": 43,
   "metadata": {},
   "outputs": [
    {
     "data": {
      "text/plain": [
       "0      170.0\n",
       "1      187.0\n",
       "2        0.0\n",
       "3      170.0\n",
       "4      170.0\n",
       "       ...  \n",
       "994    151.0\n",
       "995    160.0\n",
       "996    180.0\n",
       "997    155.0\n",
       "998    150.0\n",
       "Name: Current height (cm), Length: 999, dtype: float64"
      ]
     },
     "execution_count": 43,
     "metadata": {},
     "output_type": "execute_result"
    }
   ],
   "source": [
    "df['Current height (cm)'].replace(np.nan, 0, regex= True)"
   ]
  },
  {
   "cell_type": "code",
   "execution_count": 44,
   "metadata": {},
   "outputs": [],
   "source": [
    "df.Education.fillna(method = 'bfill', inplace= True)"
   ]
  },
  {
   "cell_type": "code",
   "execution_count": 45,
   "metadata": {},
   "outputs": [],
   "source": [
    "df.Occupation.fillna(method = 'bfill', inplace = True)"
   ]
  },
  {
   "cell_type": "code",
   "execution_count": 46,
   "metadata": {},
   "outputs": [],
   "source": [
    "df['Care entry point'].fillna(method = 'bfill', inplace = True)"
   ]
  },
  {
   "cell_type": "code",
   "execution_count": 47,
   "metadata": {},
   "outputs": [],
   "source": [
    "df['Current status'].fillna(method = 'bfill', inplace = True)"
   ]
  },
  {
   "cell_type": "code",
   "execution_count": 48,
   "metadata": {},
   "outputs": [],
   "source": [
    "df['Systolic Bp'].fillna(np.round(df['Systolic Bp'].mean(), 2), inplace = True)"
   ]
  },
  {
   "cell_type": "code",
   "execution_count": 49,
   "metadata": {},
   "outputs": [],
   "source": [
    "df['Diastolic Bp'].fillna(np.round(df['Diastolic Bp'].mean(), 1), inplace = True)"
   ]
  },
  {
   "cell_type": "code",
   "execution_count": 50,
   "metadata": {},
   "outputs": [],
   "source": [
    "df['Baseline clinic stage'].fillna(method = 'bfill', inplace = True)"
   ]
  },
  {
   "cell_type": "code",
   "execution_count": 51,
   "metadata": {},
   "outputs": [],
   "source": [
    "df['Current weight (kg)'].fillna(np.round(df['Current weight (kg)'].mean(), 1), inplace = True)"
   ]
  },
  {
   "cell_type": "code",
   "execution_count": 52,
   "metadata": {},
   "outputs": [],
   "source": [
    "df['Current height (cm)'].fillna(np.round(df['Current height (cm)'].mean(), 1), inplace = True)"
   ]
  },
  {
   "cell_type": "code",
   "execution_count": 53,
   "metadata": {},
   "outputs": [],
   "source": [
    "df['Current Systolic Bp'].fillna(np.round(df['Current Systolic Bp'].mean(), 1), inplace = True)"
   ]
  },
  {
   "cell_type": "code",
   "execution_count": 54,
   "metadata": {},
   "outputs": [],
   "source": [
    "df['Current Diastolic Bp'].fillna(np.round(df['Current Diastolic Bp'].mean(), 1), inplace = True)"
   ]
  },
  {
   "cell_type": "code",
   "execution_count": 55,
   "metadata": {},
   "outputs": [],
   "source": [
    "df.Adherence.fillna(method = 'bfill', inplace = True)"
   ]
  },
  {
   "cell_type": "code",
   "execution_count": 56,
   "metadata": {},
   "outputs": [],
   "source": [
    "df['First regimen line'].fillna(method = 'bfill', inplace = True)"
   ]
  },
  {
   "cell_type": "code",
   "execution_count": 57,
   "metadata": {},
   "outputs": [],
   "source": [
    "df['First regimen'].fillna(method = 'bfill', inplace = True)"
   ]
  },
  {
   "cell_type": "code",
   "execution_count": 58,
   "metadata": {},
   "outputs": [],
   "source": [
    "df['Current regimen line'].fillna(method = 'bfill', inplace = True)"
   ]
  },
  {
   "cell_type": "code",
   "execution_count": 59,
   "metadata": {},
   "outputs": [],
   "source": [
    "df['Last refill duration (days)'].fillna(method = 'bfill', inplace = True)"
   ]
  },
  {
   "cell_type": "code",
   "execution_count": 60,
   "metadata": {},
   "outputs": [],
   "source": [
    "df['Last clinic stage'].fillna(method = 'bfill', inplace = True)"
   ]
  },
  {
   "cell_type": "code",
   "execution_count": 61,
   "metadata": {},
   "outputs": [],
   "source": [
    "df['Viral Load indication'].fillna(method = 'bfill', inplace = True)"
   ]
  },
  {
   "cell_type": "code",
   "execution_count": 62,
   "metadata": {},
   "outputs": [],
   "source": [
    "df['DMOC type'].fillna(method = 'bfill', inplace = True)"
   ]
  },
  {
   "cell_type": "code",
   "execution_count": 63,
   "metadata": {},
   "outputs": [],
   "source": [
    "df['LGA of residence'].fillna(method = 'bfill', inplace = True)"
   ]
  },
  {
   "cell_type": "code",
   "execution_count": 64,
   "metadata": {},
   "outputs": [],
   "source": [
    "df['Current regimen'].fillna(method = 'bfill', inplace = True)"
   ]
  },
  {
   "cell_type": "code",
   "execution_count": 65,
   "metadata": {},
   "outputs": [],
   "source": [
    "df['Baseline functional status'].fillna(method = 'bfill', inplace = True)"
   ]
  },
  {
   "cell_type": "code",
   "execution_count": 66,
   "metadata": {},
   "outputs": [],
   "source": [
    "df['Day of confirmed HIV test'].fillna(method = 'bfill', inplace = True)"
   ]
  },
  {
   "cell_type": "code",
   "execution_count": 67,
   "metadata": {},
   "outputs": [],
   "source": [
    "df['Day of registration'].fillna(method = 'bfill', inplace = True)"
   ]
  },
  {
   "cell_type": "code",
   "execution_count": 68,
   "metadata": {},
   "outputs": [],
   "source": [
    "df['Day of current status'].fillna(method = 'bfill', inplace = True)"
   ]
  },
  {
   "cell_type": "code",
   "execution_count": 69,
   "metadata": {},
   "outputs": [],
   "source": [
    "df['Day of ART start date'].fillna(method = 'bfill', inplace = True)"
   ]
  },
  {
   "cell_type": "code",
   "execution_count": 70,
   "metadata": {},
   "outputs": [],
   "source": [
    "df['Day of last refill'].fillna(method = 'bfill', inplace = True)"
   ]
  },
  {
   "cell_type": "code",
   "execution_count": 71,
   "metadata": {},
   "outputs": [],
   "source": [
    "df['Day of next refill'].fillna(method = 'bfill', inplace = True)"
   ]
  },
  {
   "cell_type": "code",
   "execution_count": 72,
   "metadata": {},
   "outputs": [],
   "source": [
    "df['Day of last clinic'].fillna(method = 'bfill', inplace = True)"
   ]
  },
  {
   "cell_type": "code",
   "execution_count": 73,
   "metadata": {},
   "outputs": [],
   "source": [
    "df['Day of next clinic'].fillna(method = 'bfill', inplace = True)"
   ]
  },
  {
   "cell_type": "code",
   "execution_count": 74,
   "metadata": {},
   "outputs": [],
   "source": [
    "df['Day of last Viral Load'].fillna(method = 'bfill', inplace = True)"
   ]
  },
  {
   "cell_type": "code",
   "execution_count": 75,
   "metadata": {},
   "outputs": [],
   "source": [
    "df['Day of devolved'].fillna(method = 'bfill', inplace = True)"
   ]
  },
  {
   "cell_type": "code",
   "execution_count": 76,
   "metadata": {},
   "outputs": [
    {
     "data": {
      "text/html": [
       "<div>\n",
       "<style scoped>\n",
       "    .dataframe tbody tr th:only-of-type {\n",
       "        vertical-align: middle;\n",
       "    }\n",
       "\n",
       "    .dataframe tbody tr th {\n",
       "        vertical-align: top;\n",
       "    }\n",
       "\n",
       "    .dataframe thead th {\n",
       "        text-align: right;\n",
       "    }\n",
       "</style>\n",
       "<table border=\"1\" class=\"dataframe\">\n",
       "  <thead>\n",
       "    <tr style=\"text-align: right;\">\n",
       "      <th></th>\n",
       "      <th>Day of confirmed HIV test</th>\n",
       "      <th>Day of registration</th>\n",
       "      <th>Day of current status</th>\n",
       "      <th>Day of ART start date</th>\n",
       "      <th>Day of last refill</th>\n",
       "      <th>Day of next refill</th>\n",
       "      <th>Day of last clinic</th>\n",
       "      <th>Day of next clinic</th>\n",
       "      <th>Day of last Viral Load</th>\n",
       "      <th>Day of devolved</th>\n",
       "    </tr>\n",
       "  </thead>\n",
       "  <tbody>\n",
       "    <tr>\n",
       "      <th>0</th>\n",
       "      <td>23.0</td>\n",
       "      <td>23</td>\n",
       "      <td>28.0</td>\n",
       "      <td>23.0</td>\n",
       "      <td>28.0</td>\n",
       "      <td>25.0</td>\n",
       "      <td>28.0</td>\n",
       "      <td>25.0</td>\n",
       "      <td>15.0</td>\n",
       "      <td>2.0</td>\n",
       "    </tr>\n",
       "  </tbody>\n",
       "</table>\n",
       "</div>"
      ],
      "text/plain": [
       "   Day of confirmed HIV test  Day of registration  Day of current status  \\\n",
       "0                       23.0                   23                   28.0   \n",
       "\n",
       "   Day of ART start date  Day of last refill  Day of next refill  \\\n",
       "0                   23.0                28.0                25.0   \n",
       "\n",
       "   Day of last clinic  Day of next clinic  Day of last Viral Load  \\\n",
       "0                28.0                25.0                    15.0   \n",
       "\n",
       "   Day of devolved  \n",
       "0              2.0  "
      ]
     },
     "execution_count": 76,
     "metadata": {},
     "output_type": "execute_result"
    }
   ],
   "source": [
    "df.iloc[:, 26 :].head(1)"
   ]
  },
  {
   "cell_type": "code",
   "execution_count": 77,
   "metadata": {},
   "outputs": [
    {
     "data": {
      "text/plain": [
       "<matplotlib.axes._subplots.AxesSubplot at 0x213f620a1f0>"
      ]
     },
     "execution_count": 77,
     "metadata": {},
     "output_type": "execute_result"
    },
    {
     "data": {
      "image/png": "[encoded data removed]",
      "text/plain": [
       "<Figure size 864x432 with 1 Axes>"
      ]
     },
     "metadata": {
      "needs_background": "light"
     },
     "output_type": "display_data"
    }
   ],
   "source": [
    "sns.heatmap(df.isnull(), yticklabels = False, cbar = False, cmap = 'viridis')"
   ]
  },
  {
   "cell_type": "code",
   "execution_count": 78,
   "metadata": {},
   "outputs": [],
   "source": [
    "dummies = pd.get_dummies(df[['Adherence','Baseline clinic stage',\n",
    " 'Gender','Care entry point','Current status', 'Marital status', 'Education', 'Occupation', 'LGA of residence', 'First regimen',\n",
    " 'First regimen line', 'Current regimen',\n",
    " 'Current regimen line','Last clinic stage',\n",
    " 'Last refill duration (days)', 'Viral Load indication', 'DMOC type']], drop_first= True)"
   ]
  },
  {
   "cell_type": "code",
   "execution_count": 79,
   "metadata": {},
   "outputs": [],
   "source": [
    "df = pd.concat([df, dummies], axis = 1)"
   ]
  },
  {
   "cell_type": "code",
   "execution_count": 80,
   "metadata": {},
   "outputs": [
    {
     "data": {
      "text/html": [
       "<div>\n",
       "<style scoped>\n",
       "    .dataframe tbody tr th:only-of-type {\n",
       "        vertical-align: middle;\n",
       "    }\n",
       "\n",
       "    .dataframe tbody tr th {\n",
       "        vertical-align: top;\n",
       "    }\n",
       "\n",
       "    .dataframe thead th {\n",
       "        text-align: right;\n",
       "    }\n",
       "</style>\n",
       "<table border=\"1\" class=\"dataframe\">\n",
       "  <thead>\n",
       "    <tr style=\"text-align: right;\">\n",
       "      <th></th>\n",
       "      <th>Age</th>\n",
       "      <th>Gender</th>\n",
       "      <th>Marital status</th>\n",
       "      <th>Education</th>\n",
       "      <th>Occupation</th>\n",
       "      <th>LGA of residence</th>\n",
       "      <th>Care entry point</th>\n",
       "      <th>Current status</th>\n",
       "      <th>Systolic Bp</th>\n",
       "      <th>Diastolic Bp</th>\n",
       "      <th>...</th>\n",
       "      <th>Last clinic stage_Stage II</th>\n",
       "      <th>Last clinic stage_Stage III</th>\n",
       "      <th>Viral Load indication_Routine Baseline/Initial</th>\n",
       "      <th>Viral Load indication_Targeted - Post EAC</th>\n",
       "      <th>DMOC type_CARC</th>\n",
       "      <th>DMOC type_DARF</th>\n",
       "      <th>DMOC type_F-CARG</th>\n",
       "      <th>DMOC type_Fast Track</th>\n",
       "      <th>DMOC type_MMD</th>\n",
       "      <th>DMOC type_S-CARG</th>\n",
       "    </tr>\n",
       "  </thead>\n",
       "  <tbody>\n",
       "    <tr>\n",
       "      <th>0</th>\n",
       "      <td>37</td>\n",
       "      <td>Male</td>\n",
       "      <td>Married</td>\n",
       "      <td>Senior Secondary</td>\n",
       "      <td>Employed</td>\n",
       "      <td>Okobo</td>\n",
       "      <td>Outreach</td>\n",
       "      <td>ART Start</td>\n",
       "      <td>120.0</td>\n",
       "      <td>80.0</td>\n",
       "      <td>...</td>\n",
       "      <td>0</td>\n",
       "      <td>0</td>\n",
       "      <td>0</td>\n",
       "      <td>0</td>\n",
       "      <td>0</td>\n",
       "      <td>1</td>\n",
       "      <td>0</td>\n",
       "      <td>0</td>\n",
       "      <td>0</td>\n",
       "      <td>0</td>\n",
       "    </tr>\n",
       "    <tr>\n",
       "      <th>1</th>\n",
       "      <td>36</td>\n",
       "      <td>Female</td>\n",
       "      <td>Married</td>\n",
       "      <td>Primary</td>\n",
       "      <td>Unemployed</td>\n",
       "      <td>Okobo</td>\n",
       "      <td>Outreaches</td>\n",
       "      <td>ART Start</td>\n",
       "      <td>128.0</td>\n",
       "      <td>72.0</td>\n",
       "      <td>...</td>\n",
       "      <td>0</td>\n",
       "      <td>0</td>\n",
       "      <td>0</td>\n",
       "      <td>0</td>\n",
       "      <td>1</td>\n",
       "      <td>0</td>\n",
       "      <td>0</td>\n",
       "      <td>0</td>\n",
       "      <td>0</td>\n",
       "      <td>0</td>\n",
       "    </tr>\n",
       "  </tbody>\n",
       "</table>\n",
       "<p>2 rows × 101 columns</p>\n",
       "</div>"
      ],
      "text/plain": [
       "   Age  Gender Marital status         Education  Occupation LGA of residence  \\\n",
       "0   37    Male        Married  Senior Secondary    Employed            Okobo   \n",
       "1   36  Female        Married           Primary  Unemployed            Okobo   \n",
       "\n",
       "  Care entry point Current status  Systolic Bp  Diastolic Bp  ...  \\\n",
       "0         Outreach      ART Start        120.0          80.0  ...   \n",
       "1       Outreaches      ART Start        128.0          72.0  ...   \n",
       "\n",
       "  Last clinic stage_Stage II Last clinic stage_Stage III  \\\n",
       "0                          0                           0   \n",
       "1                          0                           0   \n",
       "\n",
       "   Viral Load indication_Routine Baseline/Initial  \\\n",
       "0                                               0   \n",
       "1                                               0   \n",
       "\n",
       "   Viral Load indication_Targeted - Post EAC  DMOC type_CARC  DMOC type_DARF  \\\n",
       "0                                          0               0               1   \n",
       "1                                          0               1               0   \n",
       "\n",
       "  DMOC type_F-CARG DMOC type_Fast Track DMOC type_MMD DMOC type_S-CARG  \n",
       "0                0                    0             0                0  \n",
       "1                0                    0             0                0  \n",
       "\n",
       "[2 rows x 101 columns]"
      ]
     },
     "execution_count": 80,
     "metadata": {},
     "output_type": "execute_result"
    }
   ],
   "source": [
    "df.head(2)"
   ]
  },
  {
   "cell_type": "code",
   "execution_count": 81,
   "metadata": {},
   "outputs": [],
   "source": [
    "df = df.drop(['Adherence','Baseline clinic stage', 'Date substituted/switched (yyyy-mm-dd)',\n",
    " 'Gender','Care entry point','Current status', 'Marital status', 'Education', 'Occupation', 'LGA of residence', 'First regimen',\n",
    " 'First regimen line', 'Current regimen',\n",
    " 'Current regimen line','Last clinic stage',\n",
    " 'Last refill duration (days)', 'Viral Load indication', 'DMOC type'], axis = 1)"
   ]
  },
  {
   "cell_type": "code",
   "execution_count": 82,
   "metadata": {},
   "outputs": [
    {
     "data": {
      "text/html": [
       "<div>\n",
       "<style scoped>\n",
       "    .dataframe tbody tr th:only-of-type {\n",
       "        vertical-align: middle;\n",
       "    }\n",
       "\n",
       "    .dataframe tbody tr th {\n",
       "        vertical-align: top;\n",
       "    }\n",
       "\n",
       "    .dataframe thead th {\n",
       "        text-align: right;\n",
       "    }\n",
       "</style>\n",
       "<table border=\"1\" class=\"dataframe\">\n",
       "  <thead>\n",
       "    <tr style=\"text-align: right;\">\n",
       "      <th></th>\n",
       "      <th>Age</th>\n",
       "      <th>Systolic Bp</th>\n",
       "      <th>Diastolic Bp</th>\n",
       "      <th>Baseline functional status</th>\n",
       "      <th>Current weight (kg)</th>\n",
       "      <th>Current height (cm)</th>\n",
       "      <th>Current Systolic Bp</th>\n",
       "      <th>Current Diastolic Bp</th>\n",
       "      <th>Day of confirmed HIV test</th>\n",
       "      <th>Day of registration</th>\n",
       "      <th>...</th>\n",
       "      <th>Last clinic stage_Stage II</th>\n",
       "      <th>Last clinic stage_Stage III</th>\n",
       "      <th>Viral Load indication_Routine Baseline/Initial</th>\n",
       "      <th>Viral Load indication_Targeted - Post EAC</th>\n",
       "      <th>DMOC type_CARC</th>\n",
       "      <th>DMOC type_DARF</th>\n",
       "      <th>DMOC type_F-CARG</th>\n",
       "      <th>DMOC type_Fast Track</th>\n",
       "      <th>DMOC type_MMD</th>\n",
       "      <th>DMOC type_S-CARG</th>\n",
       "    </tr>\n",
       "  </thead>\n",
       "  <tbody>\n",
       "    <tr>\n",
       "      <th>0</th>\n",
       "      <td>37</td>\n",
       "      <td>120.0</td>\n",
       "      <td>80.0</td>\n",
       "      <td>Working</td>\n",
       "      <td>70.0</td>\n",
       "      <td>170.0</td>\n",
       "      <td>108.0</td>\n",
       "      <td>85.0</td>\n",
       "      <td>23.0</td>\n",
       "      <td>23</td>\n",
       "      <td>...</td>\n",
       "      <td>0</td>\n",
       "      <td>0</td>\n",
       "      <td>0</td>\n",
       "      <td>0</td>\n",
       "      <td>0</td>\n",
       "      <td>1</td>\n",
       "      <td>0</td>\n",
       "      <td>0</td>\n",
       "      <td>0</td>\n",
       "      <td>0</td>\n",
       "    </tr>\n",
       "    <tr>\n",
       "      <th>1</th>\n",
       "      <td>36</td>\n",
       "      <td>128.0</td>\n",
       "      <td>72.0</td>\n",
       "      <td>Working</td>\n",
       "      <td>60.0</td>\n",
       "      <td>187.0</td>\n",
       "      <td>120.0</td>\n",
       "      <td>60.0</td>\n",
       "      <td>13.0</td>\n",
       "      <td>13</td>\n",
       "      <td>...</td>\n",
       "      <td>0</td>\n",
       "      <td>0</td>\n",
       "      <td>0</td>\n",
       "      <td>0</td>\n",
       "      <td>1</td>\n",
       "      <td>0</td>\n",
       "      <td>0</td>\n",
       "      <td>0</td>\n",
       "      <td>0</td>\n",
       "      <td>0</td>\n",
       "    </tr>\n",
       "  </tbody>\n",
       "</table>\n",
       "<p>2 rows × 82 columns</p>\n",
       "</div>"
      ],
      "text/plain": [
       "   Age  Systolic Bp  Diastolic Bp Baseline functional status  \\\n",
       "0   37        120.0          80.0                    Working   \n",
       "1   36        128.0          72.0                    Working   \n",
       "\n",
       "   Current weight (kg)  Current height (cm)  Current Systolic Bp  \\\n",
       "0                 70.0                170.0                108.0   \n",
       "1                 60.0                187.0                120.0   \n",
       "\n",
       "   Current Diastolic Bp  Day of confirmed HIV test  Day of registration  ...  \\\n",
       "0                  85.0                       23.0                   23  ...   \n",
       "1                  60.0                       13.0                   13  ...   \n",
       "\n",
       "   Last clinic stage_Stage II  Last clinic stage_Stage III  \\\n",
       "0                           0                            0   \n",
       "1                           0                            0   \n",
       "\n",
       "   Viral Load indication_Routine Baseline/Initial  \\\n",
       "0                                               0   \n",
       "1                                               0   \n",
       "\n",
       "   Viral Load indication_Targeted - Post EAC  DMOC type_CARC  DMOC type_DARF  \\\n",
       "0                                          0               0               1   \n",
       "1                                          0               1               0   \n",
       "\n",
       "   DMOC type_F-CARG  DMOC type_Fast Track  DMOC type_MMD  DMOC type_S-CARG  \n",
       "0                 0                     0              0                 0  \n",
       "1                 0                     0              0                 0  \n",
       "\n",
       "[2 rows x 82 columns]"
      ]
     },
     "execution_count": 82,
     "metadata": {},
     "output_type": "execute_result"
    }
   ],
   "source": [
    "df.head(2)"
   ]
  },
  {
   "cell_type": "code",
   "execution_count": 83,
   "metadata": {},
   "outputs": [
    {
     "name": "stdout",
     "output_type": "stream",
     "text": [
      "<class 'pandas.core.frame.DataFrame'>\n",
      "RangeIndex: 999 entries, 0 to 998\n",
      "Data columns (total 82 columns):\n",
      " #   Column                                               Non-Null Count  Dtype  \n",
      "---  ------                                               --------------  -----  \n",
      " 0   Age                                                  999 non-null    int64  \n",
      " 1   Systolic Bp                                          999 non-null    float64\n",
      " 2   Diastolic Bp                                         999 non-null    float64\n",
      " 3   Baseline functional status                           999 non-null    object \n",
      " 4   Current weight (kg)                                  999 non-null    float64\n",
      " 5   Current height (cm)                                  999 non-null    float64\n",
      " 6   Current Systolic Bp                                  999 non-null    float64\n",
      " 7   Current Diastolic Bp                                 999 non-null    float64\n",
      " 8   Day of confirmed HIV test                            999 non-null    float64\n",
      " 9   Day of registration                                  999 non-null    int64  \n",
      " 10  Day of current status                                999 non-null    float64\n",
      " 11  Day of ART start date                                999 non-null    float64\n",
      " 12  Day of last refill                                   999 non-null    float64\n",
      " 13  Day of next refill                                   999 non-null    float64\n",
      " 14  Day of last clinic                                   999 non-null    float64\n",
      " 15  Day of next clinic                                   999 non-null    float64\n",
      " 16  Day of last Viral Load                               999 non-null    float64\n",
      " 17  Day of devolved                                      999 non-null    float64\n",
      " 18  Adherence_Good                                       999 non-null    uint8  \n",
      " 19  Adherence_Poor                                       999 non-null    uint8  \n",
      " 20  Baseline clinic stage_Stage II                       999 non-null    uint8  \n",
      " 21  Baseline clinic stage_Stage III                      999 non-null    uint8  \n",
      " 22  Gender_Male                                          999 non-null    uint8  \n",
      " 23  Care entry point_In-patient                          999 non-null    uint8  \n",
      " 24  Care entry point_OPD                                 999 non-null    uint8  \n",
      " 25  Care entry point_Others                              999 non-null    uint8  \n",
      " 26  Care entry point_Outreach                            999 non-null    uint8  \n",
      " 27  Care entry point_Outreaches                          999 non-null    uint8  \n",
      " 28  Care entry point_PMTCT                               999 non-null    uint8  \n",
      " 29  Care entry point_Transfer-in                         999 non-null    uint8  \n",
      " 30  Current status_ART Start                             999 non-null    uint8  \n",
      " 31  Current status_ART Transfer In                       999 non-null    uint8  \n",
      " 32  Current status_ART Transfer Out                      999 non-null    uint8  \n",
      " 33  Current status_Died (Confirmed)                      999 non-null    uint8  \n",
      " 34  Current status_IIT                                   999 non-null    uint8  \n",
      " 35  Current status_Return to Care                        999 non-null    uint8  \n",
      " 36  Current status_Stopped Treatment                     999 non-null    uint8  \n",
      " 37  Marital status_Married                               999 non-null    uint8  \n",
      " 38  Marital status_Separated                             999 non-null    uint8  \n",
      " 39  Marital status_Single                                999 non-null    uint8  \n",
      " 40  Marital status_Widowed                               999 non-null    uint8  \n",
      " 41  Education_None                                       999 non-null    uint8  \n",
      " 42  Education_Post Secondary                             999 non-null    uint8  \n",
      " 43  Education_Primary                                    999 non-null    uint8  \n",
      " 44  Education_Senior Secondary                           999 non-null    uint8  \n",
      " 45  Occupation_Student                                   999 non-null    uint8  \n",
      " 46  Occupation_Unemployed                                999 non-null    uint8  \n",
      " 47  LGA of residence_Mbo                                 999 non-null    uint8  \n",
      " 48  LGA of residence_Okobo                               999 non-null    uint8  \n",
      " 49  LGA of residence_Oron                                999 non-null    uint8  \n",
      " 50  First regimen_ABC(120mg)+3TC(60mg)+LPV/r(40mg/10mg)  999 non-null    uint8  \n",
      " 51  First regimen_ABC(600mg)+3TC(300mg)+DTG(50mg)        999 non-null    uint8  \n",
      " 52  First regimen_ABC(60mg)+3TC(30mg)+DTG(50mg)          999 non-null    uint8  \n",
      " 53  First regimen_ABC(60mg)+3TC(30mg)+EFV(200mg)         999 non-null    uint8  \n",
      " 54  First regimen_ABC(60mg)+3TC(30mg)+LPV/r(40/10mg)     999 non-null    uint8  \n",
      " 55  First regimen_AZT/3TC/EFV(60/30/200mg)               999 non-null    uint8  \n",
      " 56  First regimen_AZT/3TC/NVP(60/30/50mg)                999 non-null    uint8  \n",
      " 57  First regimen_TDF(300mg)+3TC(300mg)+DTG(50mg)        999 non-null    uint8  \n",
      " 58  First regimen_TDF(300mg)+3TC(300mg)+EFV(600mg)       999 non-null    uint8  \n",
      " 59  First regimen_TDF(300mg)+3TC(30mg)+DTG(50mg)         999 non-null    uint8  \n",
      " 60  First regimen_TDF(300mg)+FTC(200mg)+DTG(50mg)        999 non-null    uint8  \n",
      " 61  First regimen line_ART First Line Children           999 non-null    uint8  \n",
      " 62  Current regimen_ABC(20mg/ml)+3TC(300mg)+DTG50(50mg)  999 non-null    uint8  \n",
      " 63  Current regimen_ABC(60mg)+3TC(30mg)+DTG(50mg)        999 non-null    uint8  \n",
      " 64  Current regimen_ABC(60mg)+3TC(30mg)+LPV/r(40/10mg)   999 non-null    uint8  \n",
      " 65  Current regimen_ABC/3TC/DTG10mg                      999 non-null    uint8  \n",
      " 66  Current regimen_AZT(300mg)+3TC(150mg)+NVP(200mg)     999 non-null    uint8  \n",
      " 67  Current regimen_AZT/3TC/NVP(60/30/50mg)              999 non-null    uint8  \n",
      " 68  Current regimen_TDF(300mg)+3TC(300mg)+DTG(50mg)      999 non-null    uint8  \n",
      " 69  Current regimen_TDF(300mg)+3TC(300mg)+EFV(600mg)     999 non-null    uint8  \n",
      " 70  Current regimen_TDF(300mg)+3TC(30mg)+DTG(50mg)       999 non-null    uint8  \n",
      " 71  Current regimen line_ART First Line Children         999 non-null    uint8  \n",
      " 72  Last clinic stage_Stage II                           999 non-null    uint8  \n",
      " 73  Last clinic stage_Stage III                          999 non-null    uint8  \n",
      " 74  Viral Load indication_Routine Baseline/Initial       999 non-null    uint8  \n",
      " 75  Viral Load indication_Targeted - Post EAC            999 non-null    uint8  \n",
      " 76  DMOC type_CARC                                       999 non-null    uint8  \n",
      " 77  DMOC type_DARF                                       999 non-null    uint8  \n",
      " 78  DMOC type_F-CARG                                     999 non-null    uint8  \n",
      " 79  DMOC type_Fast Track                                 999 non-null    uint8  \n",
      " 80  DMOC type_MMD                                        999 non-null    uint8  \n",
      " 81  DMOC type_S-CARG                                     999 non-null    uint8  \n",
      "dtypes: float64(15), int64(2), object(1), uint8(64)\n",
      "memory usage: 203.0+ KB\n"
     ]
    }
   ],
   "source": [
    "df.info()"
   ]
  },
  {
   "cell_type": "code",
   "execution_count": 84,
   "metadata": {},
   "outputs": [
    {
     "data": {
      "text/plain": [
       "<matplotlib.axes._subplots.AxesSubplot at 0x213f620d4f0>"
      ]
     },
     "execution_count": 84,
     "metadata": {},
     "output_type": "execute_result"
    },
    {
     "data": {
      "image/png": "[encoded data removed]",
      "text/plain": [
       "<Figure size 864x432 with 1 Axes>"
      ]
     },
     "metadata": {
      "needs_background": "light"
     },
     "output_type": "display_data"
    }
   ],
   "source": [
    "sns.heatmap(df.isnull(), yticklabels = False, cbar = False, cmap = 'viridis')"
   ]
  },
  {
   "cell_type": "code",
   "execution_count": 85,
   "metadata": {},
   "outputs": [],
   "source": [
    "X = df.drop('Baseline functional status', axis = 1)\n",
    "y = df['Baseline functional status']"
   ]
  },
  {
   "cell_type": "code",
   "execution_count": 86,
   "metadata": {},
   "outputs": [],
   "source": [
    "from sklearn.preprocessing import StandardScaler"
   ]
  },
  {
   "cell_type": "code",
   "execution_count": 87,
   "metadata": {},
   "outputs": [],
   "source": [
    "scale = StandardScaler()"
   ]
  },
  {
   "cell_type": "code",
   "execution_count": 88,
   "metadata": {},
   "outputs": [],
   "source": [
    "X = scale.fit_transform(X)"
   ]
  },
  {
   "cell_type": "code",
   "execution_count": 89,
   "metadata": {},
   "outputs": [],
   "source": [
    "from sklearn.decomposition import PCA"
   ]
  },
  {
   "cell_type": "code",
   "execution_count": 90,
   "metadata": {},
   "outputs": [],
   "source": [
    "pca = PCA(n_components= 25)"
   ]
  },
  {
   "cell_type": "code",
   "execution_count": 91,
   "metadata": {},
   "outputs": [],
   "source": [
    "X = pca.fit_transform(X)"
   ]
  },
  {
   "cell_type": "code",
   "execution_count": 92,
   "metadata": {},
   "outputs": [],
   "source": [
    "from sklearn.model_selection import train_test_split"
   ]
  },
  {
   "cell_type": "code",
   "execution_count": 93,
   "metadata": {},
   "outputs": [],
   "source": [
    "X_train, X_test, y_train, y_test = train_test_split(X, y, test_size=0.3, random_state=42)"
   ]
  },
  {
   "cell_type": "code",
   "execution_count": 94,
   "metadata": {},
   "outputs": [],
   "source": [
    "from sklearn.linear_model import LogisticRegression"
   ]
  },
  {
   "cell_type": "code",
   "execution_count": 95,
   "metadata": {},
   "outputs": [],
   "source": [
    "from sklearn.tree import DecisionTreeClassifier"
   ]
  },
  {
   "cell_type": "code",
   "execution_count": 96,
   "metadata": {},
   "outputs": [],
   "source": [
    "from sklearn.ensemble import RandomForestClassifier"
   ]
  },
  {
   "cell_type": "code",
   "execution_count": 97,
   "metadata": {},
   "outputs": [],
   "source": [
    "from sklearn.neighbors import KNeighborsClassifier"
   ]
  },
  {
   "cell_type": "code",
   "execution_count": 98,
   "metadata": {},
   "outputs": [],
   "source": [
    "from sklearn.svm import SVC"
   ]
  },
  {
   "cell_type": "code",
   "execution_count": 99,
   "metadata": {},
   "outputs": [],
   "source": [
    "log = LogisticRegression()\n",
    "tree = DecisionTreeClassifier()\n",
    "forest = RandomForestClassifier()\n",
    "knn = KNeighborsClassifier(n_neighbors = 2)\n",
    "svc = SVC()"
   ]
  },
  {
   "cell_type": "code",
   "execution_count": 100,
   "metadata": {},
   "outputs": [
    {
     "data": {
      "text/plain": [
       "LogisticRegression()"
      ]
     },
     "execution_count": 100,
     "metadata": {},
     "output_type": "execute_result"
    }
   ],
   "source": [
    "log.fit(X_train, y_train)"
   ]
  },
  {
   "cell_type": "code",
   "execution_count": 101,
   "metadata": {},
   "outputs": [
    {
     "data": {
      "text/plain": [
       "DecisionTreeClassifier()"
      ]
     },
     "execution_count": 101,
     "metadata": {},
     "output_type": "execute_result"
    }
   ],
   "source": [
    "tree.fit(X_train, y_train)"
   ]
  },
  {
   "cell_type": "code",
   "execution_count": 102,
   "metadata": {},
   "outputs": [
    {
     "data": {
      "text/plain": [
       "RandomForestClassifier()"
      ]
     },
     "execution_count": 102,
     "metadata": {},
     "output_type": "execute_result"
    }
   ],
   "source": [
    "forest.fit(X_train, y_train)"
   ]
  },
  {
   "cell_type": "code",
   "execution_count": 103,
   "metadata": {},
   "outputs": [
    {
     "data": {
      "text/plain": [
       "KNeighborsClassifier(n_neighbors=2)"
      ]
     },
     "execution_count": 103,
     "metadata": {},
     "output_type": "execute_result"
    }
   ],
   "source": [
    "knn.fit(X_train, y_train)"
   ]
  },
  {
   "cell_type": "code",
   "execution_count": 104,
   "metadata": {},
   "outputs": [
    {
     "data": {
      "text/plain": [
       "SVC()"
      ]
     },
     "execution_count": 104,
     "metadata": {},
     "output_type": "execute_result"
    }
   ],
   "source": [
    "svc.fit(X_train, y_train)"
   ]
  },
  {
   "cell_type": "code",
   "execution_count": 105,
   "metadata": {},
   "outputs": [],
   "source": [
    "pred = log.predict(X_test)"
   ]
  },
  {
   "cell_type": "code",
   "execution_count": 106,
   "metadata": {},
   "outputs": [],
   "source": [
    "preds = tree.predict(X_test)"
   ]
  },
  {
   "cell_type": "code",
   "execution_count": 107,
   "metadata": {},
   "outputs": [],
   "source": [
    "prediction = forest.predict(X_test)"
   ]
  },
  {
   "cell_type": "code",
   "execution_count": 108,
   "metadata": {},
   "outputs": [],
   "source": [
    "predictions = knn.predict(X_test)"
   ]
  },
  {
   "cell_type": "code",
   "execution_count": 109,
   "metadata": {},
   "outputs": [],
   "source": [
    "Predz = svc.predict(X_test)"
   ]
  },
  {
   "cell_type": "code",
   "execution_count": 110,
   "metadata": {},
   "outputs": [],
   "source": [
    "from sklearn.metrics import accuracy_score, classification_report, confusion_matrix"
   ]
  },
  {
   "cell_type": "code",
   "execution_count": 111,
   "metadata": {},
   "outputs": [
    {
     "name": "stdout",
     "output_type": "stream",
     "text": [
      "Logistic Regression Accuracy Score:  0.9233333333333333\n",
      "\n",
      "\n",
      "[[  0  23]\n",
      " [  0 277]]\n",
      "\n",
      "\n",
      "              precision    recall  f1-score   support\n",
      "\n",
      " Not working       0.00      0.00      0.00        23\n",
      "     Working       0.92      1.00      0.96       277\n",
      "\n",
      "    accuracy                           0.92       300\n",
      "   macro avg       0.46      0.50      0.48       300\n",
      "weighted avg       0.85      0.92      0.89       300\n",
      "\n"
     ]
    }
   ],
   "source": [
    "print('Logistic Regression Accuracy Score: ', accuracy_score(y_test, pred))\n",
    "print('\\n')\n",
    "print(confusion_matrix(y_test, pred))\n",
    "print('\\n')\n",
    "print(classification_report(y_test, pred))"
   ]
  },
  {
   "cell_type": "code",
   "execution_count": 112,
   "metadata": {},
   "outputs": [
    {
     "name": "stdout",
     "output_type": "stream",
     "text": [
      "Decision Tree Accuracy Score:  0.8766666666666667\n",
      "\n",
      "\n",
      "[[  4  19]\n",
      " [ 18 259]]\n",
      "\n",
      "\n",
      "              precision    recall  f1-score   support\n",
      "\n",
      " Not working       0.18      0.17      0.18        23\n",
      "     Working       0.93      0.94      0.93       277\n",
      "\n",
      "    accuracy                           0.88       300\n",
      "   macro avg       0.56      0.55      0.56       300\n",
      "weighted avg       0.87      0.88      0.88       300\n",
      "\n"
     ]
    }
   ],
   "source": [
    "print('Decision Tree Accuracy Score: ', accuracy_score(y_test, preds))\n",
    "print('\\n')\n",
    "print(confusion_matrix(y_test, preds))\n",
    "print('\\n')\n",
    "print(classification_report(y_test, preds))"
   ]
  },
  {
   "cell_type": "code",
   "execution_count": 113,
   "metadata": {},
   "outputs": [
    {
     "name": "stdout",
     "output_type": "stream",
     "text": [
      "Random Forest Accuracy Score:  0.9233333333333333\n",
      "\n",
      "\n",
      "[[  0  23]\n",
      " [  0 277]]\n",
      "\n",
      "\n",
      "              precision    recall  f1-score   support\n",
      "\n",
      " Not working       0.00      0.00      0.00        23\n",
      "     Working       0.92      1.00      0.96       277\n",
      "\n",
      "    accuracy                           0.92       300\n",
      "   macro avg       0.46      0.50      0.48       300\n",
      "weighted avg       0.85      0.92      0.89       300\n",
      "\n"
     ]
    }
   ],
   "source": [
    "print('Random Forest Accuracy Score: ', accuracy_score(y_test, prediction))\n",
    "print('\\n')\n",
    "print(confusion_matrix(y_test, prediction))\n",
    "print('\\n')\n",
    "print(classification_report(y_test, prediction))"
   ]
  },
  {
   "cell_type": "code",
   "execution_count": 114,
   "metadata": {},
   "outputs": [
    {
     "name": "stdout",
     "output_type": "stream",
     "text": [
      "KNeighbor Accuracy Score:  0.8666666666666667\n",
      "\n",
      "\n",
      "[[  6  17]\n",
      " [ 23 254]]\n",
      "\n",
      "\n",
      "              precision    recall  f1-score   support\n",
      "\n",
      " Not working       0.21      0.26      0.23        23\n",
      "     Working       0.94      0.92      0.93       277\n",
      "\n",
      "    accuracy                           0.87       300\n",
      "   macro avg       0.57      0.59      0.58       300\n",
      "weighted avg       0.88      0.87      0.87       300\n",
      "\n"
     ]
    }
   ],
   "source": [
    "print('KNeighbor Accuracy Score: ', accuracy_score(y_test, predictions))\n",
    "print('\\n')\n",
    "print(confusion_matrix(y_test, predictions))\n",
    "print('\\n')\n",
    "print(classification_report(y_test, predictions))"
   ]
  },
  {
   "cell_type": "code",
   "execution_count": 115,
   "metadata": {},
   "outputs": [
    {
     "name": "stdout",
     "output_type": "stream",
     "text": [
      "SVC Accuracy Score:  0.9233333333333333\n",
      "\n",
      "\n",
      "[[  0  23]\n",
      " [  0 277]]\n",
      "\n",
      "\n",
      "              precision    recall  f1-score   support\n",
      "\n",
      " Not working       0.00      0.00      0.00        23\n",
      "     Working       0.92      1.00      0.96       277\n",
      "\n",
      "    accuracy                           0.92       300\n",
      "   macro avg       0.46      0.50      0.48       300\n",
      "weighted avg       0.85      0.92      0.89       300\n",
      "\n"
     ]
    }
   ],
   "source": [
    "print('SVC Accuracy Score: ', accuracy_score(y_test, Predz))\n",
    "print('\\n')\n",
    "print(confusion_matrix(y_test, Predz))\n",
    "print('\\n')\n",
    "print(classification_report(y_test, Predz))"
   ]
  },
  {
   "cell_type": "markdown",
   "metadata": {},
   "source": [
    "### Explanatory Data Analysis\n",
    "##### Using the precision result of the KNeighbors"
   ]
  },
  {
   "cell_type": "code",
   "execution_count": 116,
   "metadata": {},
   "outputs": [],
   "source": [
    "Working = 0.94\n",
    "Not_working = 0.30\n",
    "Total = Working + Not_working"
   ]
  },
  {
   "cell_type": "code",
   "execution_count": 117,
   "metadata": {},
   "outputs": [],
   "source": [
    "Working_percentage_rate = np.round((Working / Total) * 100, 2)"
   ]
  },
  {
   "cell_type": "code",
   "execution_count": 118,
   "metadata": {},
   "outputs": [],
   "source": [
    "Not_working_percentage_rate = np.round((Not_working / Total) * 100, 2)"
   ]
  },
  {
   "cell_type": "code",
   "execution_count": 119,
   "metadata": {},
   "outputs": [
    {
     "name": "stdout",
     "output_type": "stream",
     "text": [
      "Working percentage rate:  75.81\n",
      "\n",
      "\n",
      "Not working percentage rate:  24.19\n"
     ]
    }
   ],
   "source": [
    "print('Working percentage rate: ', Working_percentage_rate)\n",
    "print('\\n')\n",
    "print('Not working percentage rate: ', Not_working_percentage_rate)"
   ]
  },
  {
   "cell_type": "code",
   "execution_count": 120,
   "metadata": {},
   "outputs": [],
   "source": [
    "# [60.13, 39.87] percentage rate of the baseline functional status captured without the date features.\n",
    "#result = pd.DataFrame({'Baseline functional status': ['Working', 'Not working'],\n",
    "                     #'Rating (%)': [60.13, 39.87]})\n",
    "result = pd.DataFrame({'Baseline functional status': ['Working', 'Not working'],\n",
    "                     'Rating (%)': [75.81, 24.19]})"
   ]
  },
  {
   "cell_type": "code",
   "execution_count": 121,
   "metadata": {},
   "outputs": [
    {
     "data": {
      "text/html": [
       "<div>\n",
       "<style scoped>\n",
       "    .dataframe tbody tr th:only-of-type {\n",
       "        vertical-align: middle;\n",
       "    }\n",
       "\n",
       "    .dataframe tbody tr th {\n",
       "        vertical-align: top;\n",
       "    }\n",
       "\n",
       "    .dataframe thead th {\n",
       "        text-align: right;\n",
       "    }\n",
       "</style>\n",
       "<table border=\"1\" class=\"dataframe\">\n",
       "  <thead>\n",
       "    <tr style=\"text-align: right;\">\n",
       "      <th></th>\n",
       "      <th>Baseline functional status</th>\n",
       "      <th>Rating (%)</th>\n",
       "    </tr>\n",
       "  </thead>\n",
       "  <tbody>\n",
       "    <tr>\n",
       "      <th>0</th>\n",
       "      <td>Working</td>\n",
       "      <td>75.81</td>\n",
       "    </tr>\n",
       "    <tr>\n",
       "      <th>1</th>\n",
       "      <td>Not working</td>\n",
       "      <td>24.19</td>\n",
       "    </tr>\n",
       "  </tbody>\n",
       "</table>\n",
       "</div>"
      ],
      "text/plain": [
       "  Baseline functional status  Rating (%)\n",
       "0                    Working       75.81\n",
       "1                Not working       24.19"
      ]
     },
     "execution_count": 121,
     "metadata": {},
     "output_type": "execute_result"
    }
   ],
   "source": [
    "result"
   ]
  },
  {
   "cell_type": "code",
   "execution_count": 122,
   "metadata": {},
   "outputs": [
    {
     "data": {
      "image/png": "[encoded data removed]",
      "text/plain": [
       "<Figure size 864x432 with 1 Axes>"
      ]
     },
     "metadata": {
      "needs_background": "light"
     },
     "output_type": "display_data"
    }
   ],
   "source": [
    "ax = sns.barplot(x = 'Baseline functional status', y = 'Rating (%)', data = result)\n",
    "plt.title('Percentage rate of the Baseline functional status', fontsize = 20)\n",
    "plt.xlabel('Baseline functional status', fontsize = 15)\n",
    "plt.ylabel('Rating (%)', fontsize = 15)\n",
    "sns.set_style('darkgrid')\n",
    "\n",
    "for i in ax.patches:\n",
    "    percentage = '{:.1f}%'.format(i.get_height())\n",
    "    x = i.get_x() + i.get_width() / 2\n",
    "    y = i.get_height() + 0.5\n",
    "    ax.annotate(percentage, (x, y), ha = 'center', size = 13)"
   ]
  },
  {
   "cell_type": "code",
   "execution_count": null,
   "metadata": {},
   "outputs": [],
   "source": []
  }
 ],
 "metadata": {
  "kernelspec": {
   "display_name": "Python 3",
   "language": "python",
   "name": "python3"
  },
  "language_info": {
   "codemirror_mode": {
    "name": "ipython",
    "version": 3
   },
   "file_extension": ".py",
   "mimetype": "text/x-python",
   "name": "python",
   "nbconvert_exporter": "python",
   "pygments_lexer": "ipython3",
   "version": "3.8.3"
  }
 },
 "nbformat": 4,
 "nbformat_minor": 4
}
